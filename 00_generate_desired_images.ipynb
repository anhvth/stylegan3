{
 "cells": [
  {
   "cell_type": "code",
   "execution_count": 539,
   "id": "36ce1460-35cb-4933-b807-e6d5c612ad26",
   "metadata": {},
   "outputs": [
    {
     "name": "stdout",
     "output_type": "stream",
     "text": [
      "The autoreload extension is already loaded. To reload it, use:\n",
      "  %reload_ext autoreload\n"
     ]
    }
   ],
   "source": [
    "%load_ext autoreload\n",
    "%autoreload 2"
   ]
  },
  {
   "cell_type": "code",
   "execution_count": 2,
   "id": "979b5b08-6085-4b19-b06d-0bf9e8b537ef",
   "metadata": {},
   "outputs": [],
   "source": [
    "!export CUDA_VISIBLE_DEVICES=1"
   ]
  },
  {
   "cell_type": "code",
   "execution_count": 3,
   "id": "6f63820e-04a9-4c03-97ce-73643e16c4b1",
   "metadata": {},
   "outputs": [],
   "source": [
    "from gen_images import *\n",
    "import mmcv\n",
    "from avcv.visualize import *\n",
    "from avcv.utils import *\n",
    "# from projector import project"
   ]
  },
  {
   "cell_type": "code",
   "execution_count": null,
   "id": "253e2b3d-66ff-4a22-86e4-7668f9f2ef01",
   "metadata": {},
   "outputs": [],
   "source": [
    "# def expand_seed(seeds, vector_size):\n",
    "#     result = []\n",
    "\n",
    "#     for seed in seeds:\n",
    "#     rnd = np.random.RandomState(seed)\n",
    "#     result.append( rnd.randn(1, vector_size) ) \n",
    "#     return result\n"
   ]
  },
  {
   "cell_type": "code",
   "execution_count": 554,
   "id": "535def19-3726-4eb8-804e-b39233da3076",
   "metadata": {},
   "outputs": [],
   "source": [
    "network_pkl = 'training-runs/00015-stylegan2-gtsr_64_dest-gpus8-batch128-gamma8.2/network-snapshot-025000.pkl'\n",
    "\n",
    "device = torch.device('cuda:1')\n",
    "with dnnlib.util.open_url(network_pkl) as f:\n",
    "    G = legacy.load_network_pkl(f)['G_ema'].to(device) # type: ignore"
   ]
  },
  {
   "cell_type": "code",
   "execution_count": 555,
   "id": "585191cd-4246-4cdf-ae41-c2cd301bef6e",
   "metadata": {},
   "outputs": [],
   "source": [
    "seeds = [0,1,2,3]\n",
    "outdir = '.cache/00/'\n",
    "truncation_psi = 1\n",
    "# !mkdir -p {outdir}\n",
    "mmcv.mkdir_or_exist(outdir)\n",
    "noise_mode = 'const'"
   ]
  },
  {
   "cell_type": "code",
   "execution_count": 556,
   "id": "9e00f268-5176-460c-852d-6a812b786aa5",
   "metadata": {},
   "outputs": [],
   "source": [
    "def forward_w(z, c, truncation_psi=1, truncation_cutoff=None, update_emas=False, **synthesis_kwargs):\n",
    "    ws = G.mapping(z, c, truncation_psi=truncation_psi, truncation_cutoff=truncation_cutoff, update_emas=update_emas)\n",
    "    return ws\n",
    "\n",
    "def forward_img(ws, synthesis_kwargs=dict(), to_np=True):\n",
    "    img = G.synthesis(ws, update_emas=False, **synthesis_kwargs)\n",
    "    if to_np:\n",
    "        img = (img.permute(0, 2, 3, 1) * 127.5 + 128).clamp(0, 255).to(torch.uint8)[0].cpu().numpy()\n",
    "    return img"
   ]
  },
  {
   "cell_type": "code",
   "execution_count": 557,
   "id": "c47a2041-955a-4dda-8854-5b03f19d7cd8",
   "metadata": {},
   "outputs": [],
   "source": [
    "# Generate images\n",
    "@torch.no_grad()\n",
    "def gen_z(seed, trunc=None):\n",
    "    \n",
    "    z = np.random.RandomState(seed).randn(1, G.z_dim)\n",
    "    if trunc is not None:\n",
    "        z = np.clip(z, -trunc, trunc)\n",
    "    \n",
    "    return torch.from_numpy(z).to(device)\n",
    "@torch.no_grad()\n",
    "def gen_img(z, cls_id):\n",
    "    label = torch.zeros([1, G.c_dim], device=device)\n",
    "    label[:, cls_id] = 1\n",
    "    img = G(z, label, truncation_psi=truncation_psi, noise_mode=noise_mode)\n",
    "    img = (img.permute(0, 2, 3, 1) * 127.5 + 128).clamp(0, 255).to(torch.uint8)[0].cpu().numpy()\n",
    "    return img\n",
    "@torch.no_grad()\n",
    "def gen_W(z, cls_id):\n",
    "    label = torch.zeros([1, G.c_dim], device=device)\n",
    "    label[:, cls_id] = 1\n",
    "    W = G.mapping(z, label,  truncation_psi=truncation_psi)\n",
    "    return W, label"
   ]
  },
  {
   "cell_type": "code",
   "execution_count": 558,
   "id": "593630ae-90a1-4a04-aab7-83d39f5e4f4f",
   "metadata": {},
   "outputs": [],
   "source": [
    "from tqdm import tqdm\n",
    "@torch.no_grad()\n",
    "def gen_in_between(z1, z2,num_in_between=100):\n",
    "    imgs = []\n",
    "\n",
    "    delta = (z2-z1)/num_in_between\n",
    "    for i in tqdm(range(num_in_between)):\n",
    "        z = z1+i*delta\n",
    "        img = gen_img(z)\n",
    "        imgs.append(img[...,::-1])\n",
    "    return imgs\n",
    "@torch.no_grad()\n",
    "def gen_with_direction(z1, delta, num):\n",
    "    imgs = []\n",
    "    for i in tqdm(range(-num//2, num//2)):\n",
    "        z = z1+i*delta\n",
    "        img = gen_img(z)\n",
    "        imgs.append(img[...,::-1])\n",
    "    return imgs\n"
   ]
  },
  {
   "cell_type": "code",
   "execution_count": 559,
   "id": "2fe2144d-98dc-4f43-979a-2e55460873dd",
   "metadata": {},
   "outputs": [],
   "source": [
    "Ws = []\n",
    "targets = []\n",
    "\n",
    "for seed in range(100):\n",
    "    z = gen_z(seed)\n",
    "    cls_id = np.random.choice(3)\n",
    "    W = gen_W(z, cls_id)[0]\n",
    "    Ws.append(W)\n",
    "    targets.append(cls_id)\n",
    "\n",
    "Ws = torch.stack(Ws)"
   ]
  },
  {
   "cell_type": "code",
   "execution_count": 560,
   "id": "2e6ac78c-f40f-42b2-8712-4e08aa663799",
   "metadata": {},
   "outputs": [],
   "source": [
    "from sklearn.preprocessing import StandardScaler\n",
    "from sklearn.decomposition import PCA\n",
    "import pandas as pd\n",
    "import matplotlib.pyplot as plt"
   ]
  },
  {
   "cell_type": "code",
   "execution_count": 561,
   "id": "e67db883-c040-4537-ae78-1acf9ad9527e",
   "metadata": {},
   "outputs": [],
   "source": [
    "pca = PCA(n_components=5)"
   ]
  },
  {
   "cell_type": "code",
   "execution_count": 562,
   "id": "e7a54cb5-3b6e-4404-97a2-90699e874410",
   "metadata": {},
   "outputs": [],
   "source": [
    "x = Ws.mean([1,2])\n",
    "x = x.cpu().numpy()"
   ]
  },
  {
   "cell_type": "code",
   "execution_count": 563,
   "id": "09fba308-944c-402d-9ff9-73dc761530f1",
   "metadata": {},
   "outputs": [],
   "source": [
    "principalComponents = pca.fit_transform(x)"
   ]
  },
  {
   "cell_type": "code",
   "execution_count": 564,
   "id": "0ea6165c-5f82-4a40-a1b4-9b46c90c2619",
   "metadata": {},
   "outputs": [
    {
     "data": {
      "text/plain": [
       "24.188417"
      ]
     },
     "execution_count": 564,
     "metadata": {},
     "output_type": "execute_result"
    }
   ],
   "source": [
    "principalComponents[:,0].max()"
   ]
  },
  {
   "cell_type": "code",
   "execution_count": 565,
   "id": "057702de-017d-45f2-b2f4-7e73108d8f1e",
   "metadata": {},
   "outputs": [],
   "source": [
    "# Ws.shape"
   ]
  },
  {
   "cell_type": "code",
   "execution_count": 567,
   "id": "afd4190d-9e2a-46ae-8d5c-905bc3ed150b",
   "metadata": {},
   "outputs": [],
   "source": [
    "!mkdir -p mp4"
   ]
  },
  {
   "cell_type": "code",
   "execution_count": 570,
   "id": "d67b9099-5349-45e5-b89c-f0bbec67ba64",
   "metadata": {},
   "outputs": [
    {
     "data": {
      "text/plain": [
       "(512,)"
      ]
     },
     "execution_count": 570,
     "metadata": {},
     "output_type": "execute_result"
    }
   ],
   "source": [
    "w_inverse.shape"
   ]
  },
  {
   "cell_type": "code",
   "execution_count": 571,
   "id": "668f3cac-2197-47d9-904d-532e8cbe3da2",
   "metadata": {},
   "outputs": [],
   "source": [
    "w_inverse = torch.from_numpy(w_inverse)"
   ]
  },
  {
   "cell_type": "code",
   "execution_count": 575,
   "id": "5500e543-0cee-454a-b86b-61a56b0e6125",
   "metadata": {},
   "outputs": [],
   "source": [
    "new_w = w\n"
   ]
  },
  {
   "cell_type": "code",
   "execution_count": 577,
   "id": "7e687534-9560-452f-a3a1-5066627c8259",
   "metadata": {},
   "outputs": [
    {
     "data": {
      "text/plain": [
       "torch.Size([512])"
      ]
     },
     "execution_count": 577,
     "metadata": {},
     "output_type": "execute_result"
    }
   ],
   "source": [
    "new_"
   ]
  },
  {
   "cell_type": "code",
   "execution_count": 584,
   "id": "b3bc50a6-d21e-4e3c-995c-b63e828337f5",
   "metadata": {},
   "outputs": [
    {
     "data": {
      "text/plain": [
       "torch.Size([512])"
      ]
     },
     "execution_count": 584,
     "metadata": {},
     "output_type": "execute_result"
    }
   ],
   "source": [
    "new_w."
   ]
  },
  {
   "cell_type": "code",
   "execution_count": 585,
   "id": "b0439d61-3e0e-4df0-961c-85249b2ed039",
   "metadata": {
    "scrolled": true,
    "tags": []
   },
   "outputs": [
    {
     "name": "stdout",
     "output_type": "stream",
     "text": [
      "[>>>>>>>>>>>>>>>>>>>>>>>>>>>>>] 100/100, 725.4 task/s, elapsed: 0s, ETA:     0s"
     ]
    },
    {
     "name": "stderr",
     "output_type": "stream",
     "text": [
      "2021-12-22 05:58:51.255 | INFO     | avcv.process:multi_thread:29 - multi_thread\n",
      "2021-12-22 05:58:51.256 | INFO     | avcv.utils:images_to_video:157 - fWrite video, output_size: {output_size}\n"
     ]
    },
    {
     "name": "stdout",
     "output_type": "stream",
     "text": [
      "[                                                  ] 0/100, elapsed: 0s, ETA:"
     ]
    },
    {
     "name": "stderr",
     "output_type": "stream",
     "text": [
      "2021-12-22 05:58:51.257 | INFO     | avcv.utils:images_to_video:159 - out_path: mp4/0.mp4\n"
     ]
    },
    {
     "name": "stdout",
     "output_type": "stream",
     "text": [
      "[>>>>>>>>>>>>>>>>>>>>>>>>>>>>>] 100/100, 673.5 task/s, elapsed: 0s, ETA:     0s[                                                  ] 0/100, elapsed: 0s, ETA:"
     ]
    },
    {
     "name": "stderr",
     "output_type": "stream",
     "text": [
      "2021-12-22 05:58:53.486 | INFO     | avcv.process:multi_thread:29 - multi_thread\n",
      "2021-12-22 05:58:53.487 | INFO     | avcv.utils:images_to_video:157 - fWrite video, output_size: {output_size}\n"
     ]
    },
    {
     "name": "stdout",
     "output_type": "stream",
     "text": [
      "[                                                  ] 0/100, elapsed: 0s, ETA:"
     ]
    },
    {
     "name": "stderr",
     "output_type": "stream",
     "text": [
      "2021-12-22 05:58:53.489 | INFO     | avcv.utils:images_to_video:159 - out_path: mp4/1.mp4\n"
     ]
    },
    {
     "name": "stdout",
     "output_type": "stream",
     "text": [
      "[>>>>>>>>>>>>>>>>>>>>>>>>>>>>>] 100/100, 599.4 task/s, elapsed: 0s, ETA:     0s[                                                  ] 0/100, elapsed: 0s, ETA:"
     ]
    },
    {
     "name": "stderr",
     "output_type": "stream",
     "text": [
      "2021-12-22 05:58:55.636 | INFO     | avcv.process:multi_thread:29 - multi_thread\n",
      "2021-12-22 05:58:55.637 | INFO     | avcv.utils:images_to_video:157 - fWrite video, output_size: {output_size}\n"
     ]
    },
    {
     "name": "stdout",
     "output_type": "stream",
     "text": [
      "[                                                  ] 0/100, elapsed: 0s, ETA:"
     ]
    },
    {
     "name": "stderr",
     "output_type": "stream",
     "text": [
      "2021-12-22 05:58:55.642 | INFO     | avcv.utils:images_to_video:159 - out_path: mp4/2.mp4\n"
     ]
    },
    {
     "name": "stdout",
     "output_type": "stream",
     "text": [
      "[>>>>>>>>>>>>>>>>>>>>>>>>>>>>>] 100/100, 901.1 task/s, elapsed: 0s, ETA:     0s[                                                  ] 0/100, elapsed: 0s, ETA:"
     ]
    },
    {
     "name": "stderr",
     "output_type": "stream",
     "text": [
      "2021-12-22 05:58:57.706 | INFO     | avcv.process:multi_thread:29 - multi_thread\n",
      "2021-12-22 05:58:57.707 | INFO     | avcv.utils:images_to_video:157 - fWrite video, output_size: {output_size}\n"
     ]
    },
    {
     "name": "stdout",
     "output_type": "stream",
     "text": [
      "[                                                  ] 0/100, elapsed: 0s, ETA:"
     ]
    },
    {
     "name": "stderr",
     "output_type": "stream",
     "text": [
      "2021-12-22 05:58:57.708 | INFO     | avcv.utils:images_to_video:159 - out_path: mp4/3.mp4\n"
     ]
    },
    {
     "name": "stdout",
     "output_type": "stream",
     "text": [
      "[>>>>>>>>>>>>>>>>>>>>>>>>>>>>>] 100/100, 854.0 task/s, elapsed: 0s, ETA:     0s[                                                  ] 0/100, elapsed: 0s, ETA:"
     ]
    },
    {
     "name": "stderr",
     "output_type": "stream",
     "text": [
      "2021-12-22 05:58:59.779 | INFO     | avcv.process:multi_thread:29 - multi_thread\n",
      "2021-12-22 05:58:59.780 | INFO     | avcv.utils:images_to_video:157 - fWrite video, output_size: {output_size}\n"
     ]
    },
    {
     "name": "stdout",
     "output_type": "stream",
     "text": [
      "[                                                  ] 0/100, elapsed: 0s, ETA:"
     ]
    },
    {
     "name": "stderr",
     "output_type": "stream",
     "text": [
      "2021-12-22 05:58:59.782 | INFO     | avcv.utils:images_to_video:159 - out_path: mp4/4.mp4\n"
     ]
    },
    {
     "name": "stdout",
     "output_type": "stream",
     "text": [
      "[>>>>>>>>>>>>>>>>>>>>>>>>>>>>>] 100/100, 700.1 task/s, elapsed: 0s, ETA:     0s"
     ]
    }
   ],
   "source": [
    "n_steps = 100\n",
    "for i in range(5):\n",
    "    delta = (principalComponents[:,i].max()-principalComponents[:,i].min())/n_steps\n",
    "    imgs = []\n",
    "    for step in range(n_steps):\n",
    "        w = Ws[0, 0, 0]\n",
    "        w_reduction = pca.transform(w.cpu().numpy()[None])\n",
    "        w_reduction[:,i] = principalComponents[1, :].min()+step*delta\n",
    "        w_inverse = pca.inverse_transform(w_reduction)[0]\n",
    "        new_w = Ws[0]\n",
    "        w_inverse = torch.from_numpy(w_inverse)\n",
    "        new_w[0,0] = w_inverse\n",
    "        # new_w = torch.stack([torch.from_numpy(w_inverse)]*10, 0)[None].to(device)\n",
    "        img = forward_img(new_w)\n",
    "        imgs.append(img[...,::-1])\n",
    "    images_to_video(imgs, f'mp4/{i}.mp4')"
   ]
  },
  {
   "cell_type": "code",
   "execution_count": 553,
   "id": "7de26033-e664-45de-961b-54aff7069640",
   "metadata": {},
   "outputs": [
    {
     "data": {
      "image/png": "[encoded data removed]",
      "text/plain": [
       "<Figure size 300x300 with 1 Axes>"
      ]
     },
     "metadata": {
      "needs_background": "light"
     },
     "output_type": "display_data"
    }
   ],
   "source": [
    "show(gen_img(gen_z(3), 11), dpi=30)"
   ]
  },
  {
   "cell_type": "code",
   "execution_count": null,
   "id": "ac85bebe-2f20-4a34-8873-6a979a32b595",
   "metadata": {},
   "outputs": [],
   "source": []
  },
  {
   "cell_type": "code",
   "execution_count": null,
   "id": "6e38edcd-f321-4ace-ac01-aad695193b18",
   "metadata": {},
   "outputs": [],
   "source": []
  }
 ],
 "metadata": {
  "kernelspec": {
   "display_name": "Python 3.8.11 64-bit ('tsr': conda)",
   "language": "python",
   "name": "python3811jvsc74a57bd046c96ddc9a85a4aafe62ca91733346e2f3ffdc8119c617a8e4190eee6fd0eed7"
  },
  "language_info": {
   "codemirror_mode": {
    "name": "ipython",
    "version": 3
   },
   "file_extension": ".py",
   "mimetype": "text/x-python",
   "name": "python",
   "nbconvert_exporter": "python",
   "pygments_lexer": "ipython3",
   "version": "3.8.11"
  }
 },
 "nbformat": 4,
 "nbformat_minor": 5
}
