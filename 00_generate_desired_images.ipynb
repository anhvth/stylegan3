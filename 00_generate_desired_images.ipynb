{
 "cells": [
  {
   "cell_type": "code",
   "execution_count": null,
   "id": "36ce1460-35cb-4933-b807-e6d5c612ad26",
   "metadata": {},
   "outputs": [],
   "source": [
    "%load_ext autoreload\n",
    "%autoreload 2"
   ]
  },
  {
   "cell_type": "code",
   "execution_count": null,
   "id": "979b5b08-6085-4b19-b06d-0bf9e8b537ef",
   "metadata": {},
   "outputs": [],
   "source": [
    "!export CUDA_VISIBLE_DEVICES=1"
   ]
  },
  {
   "cell_type": "code",
   "execution_count": null,
   "id": "6f63820e-04a9-4c03-97ce-73643e16c4b1",
   "metadata": {},
   "outputs": [],
   "source": [
    "from generate import *\n",
    "import mmcv\n",
    "from avcv.visualize import *\n",
    "from avcv.utils import *\n",
    "from projector import project"
   ]
  },
  {
   "cell_type": "code",
   "execution_count": null,
   "id": "253e2b3d-66ff-4a22-86e4-7668f9f2ef01",
   "metadata": {},
   "outputs": [],
   "source": [
    "# def expand_seed(seeds, vector_size):\n",
    "#     result = []\n",
    "\n",
    "#     for seed in seeds:\n",
    "#     rnd = np.random.RandomState(seed)\n",
    "#     result.append( rnd.randn(1, vector_size) ) \n",
    "#     return result\n"
   ]
  },
  {
   "cell_type": "code",
   "execution_count": null,
   "id": "535def19-3726-4eb8-804e-b39233da3076",
   "metadata": {},
   "outputs": [],
   "source": [
    "network_pkl = 'training-runs/00001-dest_gtsr-auto8/network-snapshot-018144.pkl'\n",
    "\n",
    "device = torch.device('cuda:1')\n",
    "with dnnlib.util.open_url(network_pkl) as f:\n",
    "    G = legacy.load_network_pkl(f)['G_ema'].to(device) # type: ignore"
   ]
  },
  {
   "cell_type": "code",
   "execution_count": null,
   "id": "585191cd-4246-4cdf-ae41-c2cd301bef6e",
   "metadata": {},
   "outputs": [],
   "source": [
    "seeds = [0,1,2,3]\n",
    "outdir = '.cache/00/'\n",
    "truncation_psi = 1\n",
    "# !mkdir -p {outdir}\n",
    "mmcv.mkdir_or_exist(outdir)\n",
    "noise_mode = 'const'"
   ]
  },
  {
   "cell_type": "code",
   "execution_count": null,
   "id": "9e00f268-5176-460c-852d-6a812b786aa5",
   "metadata": {},
   "outputs": [],
   "source": [
    "label = torch.zeros([1, G.c_dim], device=device)"
   ]
  },
  {
   "cell_type": "code",
   "execution_count": null,
   "id": "c47a2041-955a-4dda-8854-5b03f19d7cd8",
   "metadata": {},
   "outputs": [],
   "source": [
    "# Generate images\n",
    "def gen_z(seed, trunc=None):\n",
    "    \n",
    "    z = np.random.RandomState(seed).randn(1, G.z_dim)\n",
    "    if trunc is not None:\n",
    "        z = np.clip(z, -trunc, trunc)\n",
    "    \n",
    "    return torch.from_numpy(z).to(device)\n",
    "def gen_img(z):\n",
    "    img = G(z, label, truncation_psi=truncation_psi, noise_mode=noise_mode)\n",
    "    img = (img.permute(0, 2, 3, 1) * 127.5 + 128).clamp(0, 255).to(torch.uint8)[0].cpu().numpy()\n",
    "    return img\n",
    "\n",
    "for seed_idx, seed in enumerate(seeds):\n",
    "    print('Generating image for seed %d (%d/%d) ...' % (seed, seed_idx, len(seeds)))\n",
    "    z = gen_z(seed)\n",
    "    img = G(z, label, truncation_psi=truncation_psi, noise_mode=noise_mode)\n",
    "    img = (img.permute(0, 2, 3, 1) * 127.5 + 128).clamp(0, 255).to(torch.uint8)\n",
    "    PIL.Image.fromarray(img[0].cpu().numpy(), 'RGB').save(f'{outdir}/seed{seed:04d}.jpg')"
   ]
  },
  {
   "cell_type": "code",
   "execution_count": null,
   "id": "142128c5-4c15-4c0c-82a8-5bb248942a97",
   "metadata": {},
   "outputs": [],
   "source": []
  },
  {
   "cell_type": "code",
   "execution_count": null,
   "id": "d0bb246d-f436-4eb0-a15d-60502ed74802",
   "metadata": {},
   "outputs": [],
   "source": [
    "# rand_imgs = []\n",
    "# labels = []\n",
    "# rand_zs = []\n",
    "# for i in range(1, 512, 5):\n",
    "#     z = gen_z(i)\n",
    "#     rand_zs.append(z)\n",
    "#     rand_imgs += [gen_img(z)]\n",
    "#     labels += [i]\n",
    "# plot_images(rand_imgs, labels, space=[1, 1])"
   ]
  },
  {
   "cell_type": "code",
   "execution_count": null,
   "id": "593630ae-90a1-4a04-aab7-83d39f5e4f4f",
   "metadata": {},
   "outputs": [],
   "source": [
    "from tqdm import tqdm\n",
    "def gen_in_between(z1, z2,num_in_between=100):\n",
    "    imgs = []\n",
    "\n",
    "    delta = (z2-z1)/num_in_between\n",
    "    for i in tqdm(range(num_in_between)):\n",
    "        z = z1+i*delta\n",
    "        img = gen_img(z)\n",
    "        imgs.append(img[...,::-1])\n",
    "    return imgs\n",
    "\n",
    "def gen_with_direction(z1, delta, num):\n",
    "    imgs = []\n",
    "    for i in tqdm(range(-num//2, num//2)):\n",
    "        z = z1+i*delta\n",
    "        img = gen_img(z)\n",
    "        imgs.append(img[...,::-1])\n",
    "    return imgs\n"
   ]
  },
  {
   "cell_type": "markdown",
   "id": "bfaf85db-9f1c-436b-bfcb-0ad8ea9a5825",
   "metadata": {},
   "source": [
    "# Generate one class"
   ]
  },
  {
   "cell_type": "code",
   "execution_count": null,
   "id": "241e4ae1-a3a6-4035-b444-5e4f1622271f",
   "metadata": {},
   "outputs": [],
   "source": [
    "from glob import glob\n",
    "from PIL import Image\n",
    "paths = glob('/data/tsd/classification/GTSRB/train/0/*')\n",
    "imgs = [mmcv.imread(path, channel_order='rgb') for path in paths]\n",
    "imgs = [mmcv.imresize(img, (64,64)) for img in imgs]\n",
    "imgs = [torch.from_numpy(img).float().permute(2,0,1).to(device) for img in imgs]\n",
    "Image.open(paths[0])"
   ]
  },
  {
   "cell_type": "code",
   "execution_count": null,
   "id": "14faef91-59cd-4907-afc4-43f3275d6725",
   "metadata": {},
   "outputs": [],
   "source": [
    "z0 = gen_z(0)"
   ]
  },
  {
   "cell_type": "code",
   "execution_count": null,
   "id": "6d3f0113-8ed9-4eb4-ab14-aeb492e38f6d",
   "metadata": {},
   "outputs": [],
   "source": [
    "min_val = z0.min()\n",
    "max_val = z0.max()\n",
    "diff = max_val - min_val"
   ]
  },
  {
   "cell_type": "code",
   "execution_count": null,
   "id": "28c62617-63cb-44be-8388-529bd12a0a89",
   "metadata": {},
   "outputs": [],
   "source": [
    "def put_text(image, pos, text, color=(255, 255, 255), scale=2):\n",
    "    import cv2\n",
    "    return cv2.putText(image, text, pos, cv2.FONT_HERSHEY_SIMPLEX, 0.3,\n",
    "                       color, scale)"
   ]
  },
  {
   "cell_type": "code",
   "execution_count": null,
   "id": "ab81af27-994e-4462-86bc-ac2c1f21e92e",
   "metadata": {
    "tags": []
   },
   "outputs": [],
   "source": [
    "# from tqdm import tqdm\n",
    "# laten_idx = 0\n",
    "# imgs = []\n",
    "# step = 60\n",
    "# for laten_idx in tqdm(range(0, 512)):\n",
    "#     for i in range(step):\n",
    "#         _z = z0\n",
    "\n",
    "#         _z[0, laten_idx] = min_val + i*diff\n",
    "\n",
    "#         img = gen_img(_z)\n",
    "#         img = put_text(img.copy(), (2, 15),f'{laten_idx:03d}', scale=1, )\n",
    "#         imgs += [img[...,::-1]]\n",
    "# # show(img, dpi=10)\n",
    "# images_to_video(imgs, '.cache/t2.mp4')"
   ]
  },
  {
   "cell_type": "code",
   "execution_count": null,
   "id": "a9cb2c9c-d60c-4744-a960-b7c8f3f292c9",
   "metadata": {},
   "outputs": [],
   "source": [
    "imgs = []\n",
    "lbls = []\n",
    "for i in range(100):\n",
    "    z = gen_z(i)\n",
    "    img = gen_img(z)\n",
    "    imgs += [img]\n",
    "    lbls.append(i)\n",
    "    if len(imgs) == 25:\n",
    "        plot_images(imgs[:25], lbls[:25], dpi=150)\n",
    "        imgs, lbls = [], []"
   ]
  },
  {
   "cell_type": "code",
   "execution_count": null,
   "id": "f6c589d3-a4dd-483c-9ca3-525509d12433",
   "metadata": {},
   "outputs": [],
   "source": [
    "z1 = gen_z(87, trunc=None)\n",
    "z2 = gen_z(86, trunc=None)\n",
    "imgs = gen_in_between(z1, z2, 100)\n",
    "images_to_video(imgs, '.cache/t2.mp4')"
   ]
  },
  {
   "cell_type": "code",
   "execution_count": null,
   "id": "999d2c5e-bd14-4aed-9ebd-db39d224c4a0",
   "metadata": {},
   "outputs": [],
   "source": [
    "# distance = (z1-z2)"
   ]
  },
  {
   "cell_type": "code",
   "execution_count": null,
   "id": "12d22ea0-90e3-49c9-beba-d5b708025be9",
   "metadata": {},
   "outputs": [],
   "source": []
  },
  {
   "cell_type": "code",
   "execution_count": null,
   "id": "dd515cb8-6b72-4aa0-b061-656d380617b5",
   "metadata": {},
   "outputs": [],
   "source": []
  }
 ],
 "metadata": {
  "kernelspec": {
   "display_name": "Python 3 (ipykernel)",
   "language": "python",
   "name": "python3"
  },
  "language_info": {
   "codemirror_mode": {
    "name": "ipython",
    "version": 3
   },
   "file_extension": ".py",
   "mimetype": "text/x-python",
   "name": "python",
   "nbconvert_exporter": "python",
   "pygments_lexer": "ipython3",
   "version": "3.8.11"
  }
 },
 "nbformat": 4,
 "nbformat_minor": 5
}
