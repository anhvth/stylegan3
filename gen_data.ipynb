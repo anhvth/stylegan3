{
 "cells": [
  {
   "cell_type": "code",
   "execution_count": 304,
   "id": "a9e5d265-5181-4aa5-82d6-3e0fa6468236",
   "metadata": {},
   "outputs": [],
   "source": [
    "from avcv.all import *\n",
    "from avcv.coco import *\n",
    "input_dirs = [\n",
    "    '/data/RLDD/',\n",
    "    '/data/Data_HonTre/symlink_videos/'\n",
    "]"
   ]
  },
  {
   "cell_type": "code",
   "execution_count": 305,
   "id": "320a7db9-eac2-4945-92d0-870d66035caa",
   "metadata": {},
   "outputs": [
    {
     "name": "stdout",
     "output_type": "stream",
     "text": [
      "/data/RLDD/ 154\n",
      "/data/Data_HonTre/symlink_videos/ 5479\n"
     ]
    }
   ],
   "source": [
    "csv_paths = []\n",
    "for input_dir in input_dirs:\n",
    "    csv_paths += glob(osp.join(input_dir, '*/cropped_face.csv'))\n",
    "    print(input_dir, len(csv_paths))"
   ]
  },
  {
   "cell_type": "code",
   "execution_count": 306,
   "id": "24e5ef50-0400-4167-8179-7ad8def9cc62",
   "metadata": {},
   "outputs": [],
   "source": [
    "sample_rate = 3\n",
    "def f(csv_path):\n",
    "    sample_rate\n",
    "    img_dir = osp.join(osp.dirname(csv_path), 'cropped_face')\n",
    "    df = pd.read_csv(csv_path)\n",
    "    df = df[['path']]\n",
    "    df['path'] = df.path.apply(lambda x: osp.join(img_dir, x))\n",
    "    df['dataset'] = df.path.apply(lambda x: x.split('/')[2])\n",
    "    df['video'] = df.path.apply(lambda x: x.split('/')[4])\n",
    "    return df[0::sample_rate]"
   ]
  },
  {
   "cell_type": "code",
   "execution_count": 307,
   "id": "42b96642-5bce-4f27-95ee-73fe04a43d06",
   "metadata": {},
   "outputs": [],
   "source": [
    "from multiprocessing import Pool\n",
    "from tqdm import tqdm\n",
    "with Pool(10) as p:\n",
    "    it = p.imap(f, csv_paths)\n",
    "    total = len(csv_paths)\n",
    "    dfs = tqdm(list(it))\n",
    "df = pd.concat(dfs)\n",
    "df['index'] = range(len(df))\n",
    "df = df.set_index('index')    "
   ]
  },
  {
   "cell_type": "code",
   "execution_count": 310,
   "id": "1423eb46-4ae5-4059-a06d-b8c0f7685618",
   "metadata": {},
   "outputs": [
    {
     "data": {
      "text/plain": [
       "dataset\n",
       "Data_HonTre    1136700\n",
       "RLDD            892754\n",
       "dtype: int64"
      ]
     },
     "execution_count": 310,
     "metadata": {},
     "output_type": "execute_result"
    }
   ],
   "source": [
    "df.groupby('dataset').size()"
   ]
  },
  {
   "cell_type": "code",
   "execution_count": 311,
   "id": "cf4099b0-cb2f-4c7e-a082-972d1d79a3ca",
   "metadata": {},
   "outputs": [],
   "source": [
    "import shutil"
   ]
  },
  {
   "cell_type": "code",
   "execution_count": 312,
   "id": "825caed6-ed53-4521-8101-908e41bbb2a7",
   "metadata": {},
   "outputs": [],
   "source": [
    "row = df.iloc[0]"
   ]
  },
  {
   "cell_type": "code",
   "execution_count": 315,
   "id": "4efaebab-f8a0-413c-adf5-dc0eb5df1dd5",
   "metadata": {},
   "outputs": [],
   "source": [
    "# df"
   ]
  },
  {
   "cell_type": "code",
   "execution_count": 341,
   "id": "70b9116d-22f5-4119-b7e9-e8c5593dc556",
   "metadata": {},
   "outputs": [],
   "source": [
    "out_dir = './data/cropfaces_v2/'\n",
    "def f(inp):\n",
    "    index, row = inp\n",
    "    sub_dir = index%500\n",
    "    new_path = osp.join(out_dir, f'{sub_dir:04d}/{index:06d}.jpg')\n",
    "    # mmcv.mkdir_or_exist(osp.dirname(new_path))\n",
    "    try:\n",
    "        os.makedirs(osp.dirname(new_path))\n",
    "    except:\n",
    "        pass\n",
    "    \n",
    "    shutil.copy(row.path, new_path)"
   ]
  },
  {
   "cell_type": "code",
   "execution_count": 342,
   "id": "3f1d764c-7ad6-4b91-975c-c71d81ddfaa5",
   "metadata": {},
   "outputs": [
    {
     "name": "stderr",
     "output_type": "stream",
     "text": [
      "100%|█████████████████████████████████████████████████████████████████████████████████████████████████████████████████████████████████████████████████████████████████████████████████████████████████████████████████████████████████████████████████████████████████████████████████████████████████| 2029454/2029454 [09:11<00:00, 3682.42it/s]\n"
     ]
    }
   ],
   "source": [
    "with Pool(60) as p:\n",
    "    it = p.imap(f, df.iterrows())\n",
    "    total = len(df)\n",
    "    r = list(tqdm(it, total=total))\n"
   ]
  },
  {
   "cell_type": "code",
   "execution_count": null,
   "id": "72624f2e-e515-4324-accf-8fe6d0a7dc6c",
   "metadata": {},
   "outputs": [],
   "source": []
  }
 ],
 "metadata": {
  "kernelspec": {
   "display_name": "Python 3 (ipykernel)",
   "language": "python",
   "name": "python3"
  },
  "language_info": {
   "codemirror_mode": {
    "name": "ipython",
    "version": 3
   },
   "file_extension": ".py",
   "mimetype": "text/x-python",
   "name": "python",
   "nbconvert_exporter": "python",
   "pygments_lexer": "ipython3",
   "version": "3.8.11"
  }
 },
 "nbformat": 4,
 "nbformat_minor": 5
}
